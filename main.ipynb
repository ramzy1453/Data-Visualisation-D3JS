{
 "cells": [
  {
   "cell_type": "code",
   "execution_count": 115,
   "metadata": {},
   "outputs": [],
   "source": [
    "import matplotlib.pyplot as plt\n",
    "import pandas as pd\n",
    "import requests"
   ]
  },
  {
   "cell_type": "code",
   "execution_count": 116,
   "metadata": {},
   "outputs": [],
   "source": [
    "url = 'https://raw.githubusercontent.com/holtzy/data_to_viz/master/Example_dataset/11_SevCatOneNumNestedOneObsPerGroup.csv'"
   ]
  },
  {
   "cell_type": "code",
   "execution_count": 117,
   "metadata": {},
   "outputs": [
    {
     "data": {
      "text/html": [
       "<div>\n",
       "<style scoped>\n",
       "    .dataframe tbody tr th:only-of-type {\n",
       "        vertical-align: middle;\n",
       "    }\n",
       "\n",
       "    .dataframe tbody tr th {\n",
       "        vertical-align: top;\n",
       "    }\n",
       "\n",
       "    .dataframe thead th {\n",
       "        text-align: right;\n",
       "    }\n",
       "</style>\n",
       "<table border=\"1\" class=\"dataframe\">\n",
       "  <thead>\n",
       "    <tr style=\"text-align: right;\">\n",
       "      <th></th>\n",
       "      <th>region</th>\n",
       "      <th>subregion</th>\n",
       "      <th>key</th>\n",
       "      <th>value</th>\n",
       "    </tr>\n",
       "  </thead>\n",
       "  <tbody>\n",
       "    <tr>\n",
       "      <th>0</th>\n",
       "      <td>Asia</td>\n",
       "      <td>Southern Asia</td>\n",
       "      <td>Afghanistan</td>\n",
       "      <td>25500100</td>\n",
       "    </tr>\n",
       "    <tr>\n",
       "      <th>1</th>\n",
       "      <td>Europe</td>\n",
       "      <td>Northern Europe</td>\n",
       "      <td>Åland Islands</td>\n",
       "      <td>28502</td>\n",
       "    </tr>\n",
       "    <tr>\n",
       "      <th>2</th>\n",
       "      <td>Europe</td>\n",
       "      <td>Southern Europe</td>\n",
       "      <td>Albania</td>\n",
       "      <td>2821977</td>\n",
       "    </tr>\n",
       "    <tr>\n",
       "      <th>3</th>\n",
       "      <td>Africa</td>\n",
       "      <td>Northern Africa</td>\n",
       "      <td>Algeria</td>\n",
       "      <td>37900000</td>\n",
       "    </tr>\n",
       "    <tr>\n",
       "      <th>4</th>\n",
       "      <td>Oceania</td>\n",
       "      <td>Polynesia</td>\n",
       "      <td>American Samoa</td>\n",
       "      <td>55519</td>\n",
       "    </tr>\n",
       "  </tbody>\n",
       "</table>\n",
       "</div>"
      ],
      "text/plain": [
       "    region        subregion             key     value\n",
       "0     Asia    Southern Asia     Afghanistan  25500100\n",
       "1   Europe  Northern Europe   Åland Islands     28502\n",
       "2   Europe  Southern Europe         Albania   2821977\n",
       "3   Africa  Northern Africa         Algeria  37900000\n",
       "4  Oceania        Polynesia  American Samoa     55519"
      ]
     },
     "execution_count": 117,
     "metadata": {},
     "output_type": "execute_result"
    }
   ],
   "source": [
    "df = pd.read_csv(url, sep=';')\n",
    "df.head()"
   ]
  },
  {
   "cell_type": "code",
   "execution_count": 118,
   "metadata": {},
   "outputs": [
    {
     "data": {
      "text/plain": [
       "region\n",
       "Africa      1060491021\n",
       "Americas     958306818\n",
       "Asia        4174984067\n",
       "Europe       732609380\n",
       "Oceania       37803967\n",
       "Name: value, dtype: int64"
      ]
     },
     "execution_count": 118,
     "metadata": {},
     "output_type": "execute_result"
    }
   ],
   "source": [
    "regions = df.groupby(\"region\")['value'].sum()\n",
    "regions"
   ]
  },
  {
   "cell_type": "code",
   "execution_count": 119,
   "metadata": {},
   "outputs": [],
   "source": [
    "subregions = df.groupby(\"subregion\")['value'].sum()"
   ]
  },
  {
   "cell_type": "code",
   "execution_count": 120,
   "metadata": {},
   "outputs": [
    {
     "data": {
      "image/png": "[encoded data removed]",
      "text/plain": [
       "<Figure size 800x800 with 1 Axes>"
      ]
     },
     "metadata": {},
     "output_type": "display_data"
    }
   ],
   "source": [
    "fig, ax = plt.subplots(figsize=(8, 8))\n",
    "\n",
    "outer_labels = regions.index\n",
    "outer_sizes = regions.values"
   ]
  },
  {
   "cell_type": "code",
   "execution_count": 121,
   "metadata": {},
   "outputs": [
    {
     "data": {
      "text/plain": [
       "(Index(['Africa', 'Americas', 'Asia', 'Europe', 'Oceania'], dtype='object', name='region'),\n",
       " array([1060491021,  958306818, 4174984067,  732609380,   37803967],\n",
       "       dtype=int64))"
      ]
     },
     "execution_count": 121,
     "metadata": {},
     "output_type": "execute_result"
    }
   ],
   "source": [
    "outer_labels, outer_sizes"
   ]
  },
  {
   "cell_type": "code",
   "execution_count": 122,
   "metadata": {},
   "outputs": [
    {
     "data": {
      "text/plain": [
       "([<matplotlib.patches.Wedge at 0x1e219ce2480>,\n",
       "  <matplotlib.patches.Wedge at 0x1e219ebc2c0>,\n",
       "  <matplotlib.patches.Wedge at 0x1e219ec2540>,\n",
       "  <matplotlib.patches.Wedge at 0x1e219ec3080>,\n",
       "  <matplotlib.patches.Wedge at 0x1e219ec55e0>],\n",
       " [Text(0.9765088336229427, 0.5063896699739838, 'Africa'),\n",
       "  Text(0.19878246222325088, 1.081889796935188, 'Americas'),\n",
       "  Text(-0.9301330434452989, -0.5872414507604056, 'Asia'),\n",
       "  Text(1.0276962316340108, -0.39222500619574685, 'Europe'),\n",
       "  Text(1.0998400484337212, -0.01875814120082506, 'Oceania')],\n",
       " [Text(0.5326411819761505, 0.2762125472585366, '15.2%'),\n",
       "  Text(0.10842679757631866, 0.5901217074191933, '13.8%'),\n",
       "  Text(-0.5073452964247084, -0.32031351859658486, '59.9%'),\n",
       "  Text(0.5605615808912786, -0.21394091247040734, '10.5%'),\n",
       "  Text(0.5999127536911206, -0.010231713382268214, '0.5%')])"
      ]
     },
     "execution_count": 122,
     "metadata": {},
     "output_type": "execute_result"
    }
   ],
   "source": [
    "ax.pie(outer_sizes, labels=outer_labels, radius=1, wedgeprops=dict(width=0.3, edgecolor='w'), autopct='%1.1f%%')"
   ]
  },
  {
   "cell_type": "code",
   "execution_count": 123,
   "metadata": {},
   "outputs": [],
   "source": [
    "# Inner Pie (Subregions)\n",
    "inner_labels = subregions.index\n",
    "inner_sizes = subregions.values"
   ]
  },
  {
   "cell_type": "code",
   "execution_count": 124,
   "metadata": {},
   "outputs": [
    {
     "data": {
      "text/plain": [
       "([<matplotlib.patches.Wedge at 0x1e219ebd190>,\n",
       "  <matplotlib.patches.Wedge at 0x1e219cd4ec0>,\n",
       "  <matplotlib.patches.Wedge at 0x1e219ec6420>,\n",
       "  <matplotlib.patches.Wedge at 0x1e219ec6690>,\n",
       "  <matplotlib.patches.Wedge at 0x1e219ec6c30>,\n",
       "  <matplotlib.patches.Wedge at 0x1e219ec6f60>,\n",
       "  <matplotlib.patches.Wedge at 0x1e219ec7260>,\n",
       "  <matplotlib.patches.Wedge at 0x1e219ec76e0>,\n",
       "  <matplotlib.patches.Wedge at 0x1e219ec7a70>,\n",
       "  <matplotlib.patches.Wedge at 0x1e219ec7ec0>,\n",
       "  <matplotlib.patches.Wedge at 0x1e219ecc2c0>,\n",
       "  <matplotlib.patches.Wedge at 0x1e219ecc620>,\n",
       "  <matplotlib.patches.Wedge at 0x1e219ecc950>,\n",
       "  <matplotlib.patches.Wedge at 0x1e219eccd40>,\n",
       "  <matplotlib.patches.Wedge at 0x1e219ecd160>,\n",
       "  <matplotlib.patches.Wedge at 0x1e219ecd520>,\n",
       "  <matplotlib.patches.Wedge at 0x1e219ecd8b0>,\n",
       "  <matplotlib.patches.Wedge at 0x1e219ecdd30>,\n",
       "  <matplotlib.patches.Wedge at 0x1e219ece0f0>,\n",
       "  <matplotlib.patches.Wedge at 0x1e219ece420>,\n",
       "  <matplotlib.patches.Wedge at 0x1e219ece660>,\n",
       "  <matplotlib.patches.Wedge at 0x1e219ece930>],\n",
       " [Text(0.769939721929945, 0.009634552114085601, 'Australia and New Zealand'),\n",
       "  Text(0.769271895120518, 0.033477625030559906, 'Caribbean'),\n",
       "  Text(0.7629347451132207, 0.10407004707899864, 'Central America'),\n",
       "  Text(0.748114478122133, 0.1822765141866843, 'Central Asia'),\n",
       "  Text(0.7024538720584694, 0.31537050849764536, 'Eastern Africa'),\n",
       "  Text(0.20928683881838755, 0.7410121585354765, 'Eastern Asia'),\n",
       "  Text(-0.4209427163795759, 0.6447536192430283, 'Eastern Europe'),\n",
       "  Text(-0.5052615963539006, 0.5810427860750946, 'Melanesia'),\n",
       "  Text(-0.5077232331101565, 0.5788930113243462, 'Micronesia'),\n",
       "  Text(-0.5446192992230288, 0.5443251040635706, 'Middle Africa'),\n",
       "  Text(-0.6245278200978542, 0.45040537510538464, 'Northern Africa'),\n",
       "  Text(-0.7176088773236512, 0.2791728840455122, 'Northern America'),\n",
       "  Text(-0.759085101259807, 0.1291890438287571, 'Northern Europe'),\n",
       "  Text(-0.764011201549979, 0.095848233714333, 'Polynesia'),\n",
       "  Text(-0.7687604355288052, -0.043673707943815816, 'South America'),\n",
       "  Text(-0.6808101953469925, -0.3597186093484599, 'South-Eastern Asia'),\n",
       "  Text(-0.5573646201840786, -0.5312670516482815, 'Southern Africa'),\n",
       "  Text(-0.0032322551441423533, -0.7699932158965319, 'Southern Asia'),\n",
       "  Text(0.5739013450371969, -0.5133587889230069, 'Southern Europe'),\n",
       "  Text(0.6663647057012262, -0.3858213044865696, 'Western Africa'),\n",
       "  Text(0.7400135303592156, -0.21279091823968996, 'Western Asia'),\n",
       "  Text(0.7671283635613954, -0.06643849651832626, 'Western Europe')])"
      ]
     },
     "execution_count": 124,
     "metadata": {},
     "output_type": "execute_result"
    }
   ],
   "source": [
    "ax.pie(inner_sizes, labels=inner_labels, radius=0.7, wedgeprops=dict(width=0.3, edgecolor='w'))"
   ]
  },
  {
   "cell_type": "code",
   "execution_count": 125,
   "metadata": {},
   "outputs": [
    {
     "data": {
      "image/png": "[encoded data removed]",
      "text/plain": [
       "<Figure size 640x480 with 1 Axes>"
      ]
     },
     "metadata": {},
     "output_type": "display_data"
    }
   ],
   "source": [
    "# Display Plot\n",
    "plt.title(\"Nested Pie Chart: Regions and Subregions\")\n",
    "plt.show()"
   ]
  }
 ],
 "metadata": {
  "kernelspec": {
   "display_name": "Python 3",
   "language": "python",
   "name": "python3"
  },
  "language_info": {
   "codemirror_mode": {
    "name": "ipython",
    "version": 3
   },
   "file_extension": ".py",
   "mimetype": "text/x-python",
   "name": "python",
   "nbconvert_exporter": "python",
   "pygments_lexer": "ipython3",
   "version": "3.12.2"
  }
 },
 "nbformat": 4,
 "nbformat_minor": 2
}
